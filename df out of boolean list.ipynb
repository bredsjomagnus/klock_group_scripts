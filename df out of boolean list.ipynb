{
 "cells": [
  {
   "cell_type": "code",
   "execution_count": 39,
   "metadata": {},
   "outputs": [
    {
     "name": "stdout",
     "output_type": "stream",
     "text": [
      "  namn                                              grupp\n",
      "2    c  [9ABCNO-2, 9ABCSVA, 9ABCSVEN, 9ABL-2, 9AHKK-2,...\n"
     ]
    }
   ],
   "source": [
    "import pandas as pd\n",
    "\n",
    "_dict = {\n",
    "    'namn': ['a', 'b', 'c', 'd'],\n",
    "    'grupp': [\n",
    "        ['7ABCSVA', '7ABCSVEN', '7CBL-1', '7CIDH', '7CMU-1', '7CSL-1', 'SOM 5-9', '7ABCNO-1', '7CSO'],\n",
    "        ['9ABCNO-3', '9ABL-1', '9AHKK-1', '9ASL-1', '9ABCSVA-Gerd'],\n",
    "        ['9ABCNO-2', '9ABCSVA', '9ABCSVEN', '9ABL-2', '9AHKK-2', '9AIDH', '9AMU-2', '9ASL-2'],\n",
    "        ['7ABCSP', '7CBL-2', '7CIDH', '7CMU-2', '7CSL-1', 'Blivande 7C', '7ABCNO-2', '7CSV', '7CSO']\n",
    "    ]\n",
    "}\n",
    "\n",
    "df = pd.DataFrame.from_dict(_dict)\n",
    "\n",
    "\n",
    "def df_sub_group_from_list_in_column(df, column, needle):\n",
    "    boolean_mask = []\n",
    "    for index, value in df.iterrows():\n",
    "        if not type(value[column]) is list:\n",
    "            column_list = value[column].split(',')\n",
    "        else:\n",
    "            column_list = value[column]\n",
    "            \n",
    "        if needle in column_list:\n",
    "            boolean_mask.append(True)\n",
    "        else:\n",
    "            boolean_mask.append(False)\n",
    "        \n",
    "    return boolean_mask\n",
    "\n",
    "df_sub = df[df_sub_group_from_list_in_column(df, 'grupp', '9ABCSVA')]\n",
    "\n",
    "print(df_sub)\n",
    "\n",
    "\n"
   ]
  }
 ],
 "metadata": {
  "kernelspec": {
   "display_name": "Python 3",
   "language": "python",
   "name": "python3"
  },
  "language_info": {
   "codemirror_mode": {
    "name": "ipython",
    "version": 3
   },
   "file_extension": ".py",
   "mimetype": "text/x-python",
   "name": "python",
   "nbconvert_exporter": "python",
   "pygments_lexer": "ipython3",
   "version": "3.6.9"
  }
 },
 "nbformat": 4,
 "nbformat_minor": 2
}
